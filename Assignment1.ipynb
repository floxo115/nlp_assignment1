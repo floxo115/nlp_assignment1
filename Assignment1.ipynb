{
 "cells": [
  {
   "cell_type": "markdown",
   "metadata": {},
   "source": [
    "Please fill out the information of your group!\n",
    "\n",
    "| <p style=\"text-align: center;\">First Name</p>  | <p style=\"text-align: center;\">Family Name</p> | Matr.-No. |\n",
    "| ---------------------------------------------- | ---------------------------------------------- | -------- |\n",
    "| <p style=\"text-align: left\">*EDIT!*</p>| <p style=\"text-align: left\">*EDIT!*</p> | *EDIT!* |\n",
    "| <p style=\"text-align: left\">*EDIT!*</p>| <p style=\"text-align: left\">*EDIT!*</p> | *EDIT!* |\n"
   ]
  },
  {
   "cell_type": "markdown",
   "metadata": {},
   "source": [
    "<h2 style=\"text-align: center\">344.075 KV: Natural Language Processing (WS2021/22)</h2>\n",
    "<h1 style=\"color:rgb(0,120,170)\">Assignment 1</h1>\n",
    "<h2 style=\"color:rgb(0,120,170)\">Document Classification with Standard Machine Learning Methods</h2>"
   ]
  },
  {
   "cell_type": "markdown",
   "metadata": {},
   "source": [
    "<div>\n",
    "<b>Terms of Use</b><br>\n",
    "This  material is prepared for educational purposes at the Johannes Kepler University (JKU) Linz, and is exclusively provided to the registered students of the mentioned course at JKU. It is strictly forbidden to distribute the current file, the contents of the assignment, and its solution. The use or reproduction of this manuscript is only allowed for educational purposes in non-profit organizations, while in this case, the explicit prior acceptance of the author(s) is required.\n",
    "\n",
    "**Author:** Navid Rekab-Saz<br>\n",
    "**Email:** navid.rekabsaz@jku.at<br>\n",
    "\n",
    "</div>"
   ]
  },
  {
   "cell_type": "markdown",
   "metadata": {},
   "source": [
    "<h2>Table of contents</h2>\n",
    "<ol>\n",
    "    <a href=\"#section-general-guidelines\"><li style=\"font-size:large;font-weight:bold\">General Guidelines</li></a>\n",
    "    <a href=\"#section-preprocessing\"><li style=\"font-size:large;font-weight:bold\">Task A: Pre-processing & Feature Extraction (15 points)</li></a>\n",
    "    <a href=\"#section-training\"><li style=\"font-size:large;font-weight:bold\">Task B: Training and Results Analysis (15 points)</li></a>\n",
    "    <a href=\"#section-optional\"><li style=\"font-size:large;font-weight:bold\">Task C: Linear Model Interpretability (2 extra point)</li></a>\n",
    "    \n",
    "</ol>"
   ]
  },
  {
   "cell_type": "markdown",
   "metadata": {},
   "source": [
    "<a name=\"section-general-guidelines\"></a><h2 style=\"color:rgb(0,120,170)\">General Guidelines</h2>"
   ]
  },
  {
   "cell_type": "markdown",
   "metadata": {},
   "source": [
    "<div>\n",
    "\n",
    "### Assignment objective\n",
    "\n",
    "The aim of this assignment is to implement a document (sentence) classification model using (standard) machine learning methods. The assignment in total has **30 points**; it also offers **2 extra points** which can cover any missing point.\n",
    "\n",
    "This Notebook encompasses all aspects of the assignment, namely the descriptions of tasks as well as your solutions and reports. Feel free to add any required cell for solutions. The cells can contain code, reports, charts, tables, or any other material, required for the assignment. Feel free to provide the solutions in an interactive and visual way! \n",
    "\n",
    "Please discuss any unclear point in the assignment in the provided forum in MOODLE. It is also encouraged to provide answers to your peer's questions. However when submitting a post, keep in mind to avoid providing solutions. Please let the tutor(s) know shall you find any error or unclarity in the assignment.\n",
    "\n",
    "### Implementation & Libraries\n",
    "\n",
    "The assignment should be implemented with recent versions of `Python` (>3.7). Any standard Python library can be used, so far that the library is free and can be simply installed using `pip` or `conda`. Examples of potentially useful libraries are `scikit-learn`, `numpy`, `scipy`, `gensim`, `nltk`, `spaCy`, and `AllenNLP`. Use the latest stable version of each library.\n",
    "\n",
    "### Submission\n",
    "\n",
    "Each group submits one Notebook file (`.ipynb`) trough MOODLE. Do not forget to put in your names and student numbers in the first cell of the Notebook. **In the submitted Notebook, all the results and visualizations should already be present, and can be observed simply by loading the Notebook in a browser.** The Notebook must be self-contained, meaning that one can run all the cells from top to bottom without any error. If you need to include extra files in the submission, compress all files (together with the Notebook) in a `zip` file and submit the zip file to MOODLE. You do not need to include the data files in the submission.\n",
    "\n",
    "Cover the questions/points, mentioned in the tasks, but also add any necessary point for understanding your experiments.  \n",
    "\n",
    "\n",
    "### Dataset\n",
    "\n",
    "To conduct the experiments, two datasets are provided. The datasets are taken from the data of `thedeep` project, produced by the DEEP (https://www.thedeep.io) platform. The DEEP is an open-source platform, which aims to facilitate processing of textual data for international humanitarian response organizations. The platform enables the classification of text excerpts, extracted from news and reports into a set of domain specific classes. The provided dataset has 12 classes (labels) like agriculture, health, and protection. \n",
    "\n",
    "The difference between the datasets is in their sizes. We refer to these as `medium` and `small`, containing an overall number of 38,000 and 12,000 annotated text excerpts, respectively. Select one of the datasets, and use it for all of the tasks. `medium` provides more data and therefore reflects a more realistic scenario. `small` is however provided for the sake of convenience, particularly if running the experiments on your available hardware takes too long. Using `medium` is generally recommended, but from the point of view of assignment grading, there is no difference between the datasets.\n",
    "\n",
    "Download the dataset from [this link](https://drive.jku.at/filr/public-link/file-download/0cce88f07c9c862b017c9cfba294077a/33590/5792942781153185740/nlp2021_22_data.zip).\n",
    "\n",
    "Whether `medium` or `small`, you will find the following files in the provided zip file:\n",
    "- `thedeep.$name$.train.txt`: Train set in csv format with three fields: sentence_id, text, and label.\n",
    "- `thedeep.$name$.validation.txt`: Validation set in csv format with three fields: sentence_id, text, and label.\n",
    "- `thedeep.$name$.test.txt`: Test set in csv format with three fields: sentence_id, text, and label.\n",
    "- `thedeep.$name$.label.txt`: Captions of the labels.\n",
    "- `README.txt`: Terms of use of the dataset.\n",
    "\n",
    "</div>\n"
   ]
  },
  {
   "cell_type": "markdown",
   "metadata": {},
   "source": [
    "<a name=\"section-preprocessing\"></a><h2 style=\"color:rgb(0,120,170)\">Task A: Pre-processing & Feature Extraction (15 points)</h2>"
   ]
  },
  {
   "cell_type": "markdown",
   "metadata": {},
   "source": [
    "<div>\n",
    "    \n",
    "**Preprocessing (4 points).** Load the train, validation, and test sets. Study the text and according to your judgements, apply at least <ins>two text cleaning/preprocessing methods</ins>. Punctuations marks, numbers, dates, case-sensitivity are some examples of the elements which can be potentially considered for cleaning/preprocessing. Tokenize the result text with a tokenizer of your choice. Report your approaches to text cleaning and tokenization and the reasons of your choices. Provide some examples, showing the effects of the applied approaches on the text.\n",
    "\n",
    "**Creating dictionary (4 points).** Create a dictionary of vocabularies following the guidelines discussed in the lecture. Next, reduce the size of dictionary using a method of your choice, for instance by considering a cut-off threshold on the tokens with low frequencies. When removing tokens from the dictionary, consider a strategy for handling Out-Of-Vocabulary (OOV) tokens, namely the ones in the train/validation/test datasets that that are not anymore in the dictionary. Some possible strategies could be to remove OOVs completely from the texts, or to replace them with a special token like <OOV\\>. Explain your approaches and report the statistics of the dictionary before and after the reduction.\n",
    "\n",
    "**Creating sentence vectors (4 points).** Use the dictionary to prepare <ins>two variations of document representation vectors</ins>, separately for train, validation, and test sets. Both variations follow a Bag-of-Words approach with a different token weighting method. The applied weightings can be any of the methods discussed in the lecture (namely `tc`, `tf`, and `tf-idf`), or other possible methods of your choice. Report the applied approaches. Calculate and report the sparsity rate of the vectors of train, validation, and test sets, namely what percentages of the vectors in each set are filled with zeros.\n",
    "\n",
    "**Dimensionality reduction (3 points).** Reduce vectors' dimensions to $k$ by applying Latent Semantic Analysis (LSA) to the vectors of both variations. $k$ is a hyper-parameter and can be $10<k<1000$. Keep in mind the training and inference phases of LSA, when applied to the train, validation, and test sets. \n",
    "\n",
    "At the end of Task A, you should have the <ins>four feature vectors variations</ins> shown below, each consisting of the sets of train, validation, and test:\n",
    "- **`Token Weighting I - High Dimensional`**\n",
    "- **`Token Weighting I - Low Dimensional`**\n",
    "- **`Token Weighting II - High Dimensional`**\n",
    "- **`Token Weighting II - Low Dimensional`**\n",
    "\n",
    "\n",
    "</div>"
   ]
  },
  {
   "cell_type": "code",
   "execution_count": 1,
   "metadata": {},
   "outputs": [],
   "source": [
    "from lib import import_datasets, get_n_most_common_tokens, preprocess_txt\n",
    "import nltk\n",
    "from nltk.tokenize import word_tokenize\n",
    "import dill\n",
    "from pprint import pprint\n",
    "from collections import Counter\n",
    "from matplotlib import pyplot as plt\n",
    "import pandas as pd\n",
    "import numpy as np\n",
    "from nltk.probability import FreqDist\n",
    "from numpy.linalg import svd\n",
    "from typing import Tuple\n",
    "\n",
    "#nltk.download()"
   ]
  },
  {
   "cell_type": "markdown",
   "metadata": {},
   "source": [
    "## Preprocessing"
   ]
  },
  {
   "cell_type": "code",
   "execution_count": 2,
   "metadata": {},
   "outputs": [],
   "source": [
    "DATASET_SIZE = \"small\" # \"medium\"\n",
    "# if already preprocessed then set to false to save time\n",
    "PREPROC = True\n",
    "REDUCE_WORDS = True"
   ]
  },
  {
   "cell_type": "code",
   "execution_count": 3,
   "metadata": {},
   "outputs": [
    {
     "name": "stdout",
     "output_type": "stream",
     "text": [
      "top 20 tokens before preprocessing\n",
      "[('the', 29747),\n",
      " ('of', 24137),\n",
      " ('and', 22190),\n",
      " ('in', 19088),\n",
      " ('to', 17114),\n",
      " ('are', 6384),\n",
      " ('a', 6195),\n",
      " ('is', 4828),\n",
      " ('for', 4671),\n",
      " ('have', 4605),\n",
      " ('The', 4177),\n",
      " ('as', 3615),\n",
      " ('by', 3584),\n",
      " ('from', 3547),\n",
      " ('that', 3461),\n",
      " ('with', 3387),\n",
      " ('on', 3356),\n",
      " ('were', 3315),\n",
      " ('food', 2969),\n",
      " ('people', 2896)]\n"
     ]
    }
   ],
   "source": [
    "train_df, test_df, val_df = import_datasets(DATASET_SIZE)\n",
    "print(\"top 20 tokens before preprocessing\")\n",
    "pprint(get_n_most_common_tokens(train_df, 20))    "
   ]
  },
  {
   "cell_type": "code",
   "execution_count": 4,
   "metadata": {},
   "outputs": [],
   "source": [
    "if PREPROC:\n",
    "    preprocess_txt(train_df)\n",
    "    preprocess_txt(test_df)\n",
    "    preprocess_txt(val_df)\n",
    "\n",
    "    with open(\"train_df_preprocessed.pkl\", \"wb\") as f:\n",
    "        f.write(dill.dumps(train_df))\n",
    "    with open(\"test_df_preprocessed.pkl\", \"wb\") as f:\n",
    "        f.write(dill.dumps(test_df))\n",
    "    with open(\"val_df_preprocessed.pkl\", \"wb\") as f:\n",
    "        f.write(dill.dumps(val_df))\n",
    "\n",
    "else:\n",
    "    with open(\"train_df_preprocessed.pkl\", \"rb\") as f:\n",
    "            train_df = dill.loads(f.read())\n",
    "    with open(\"test_df_preprocessed.pkl\", \"rb\") as f:\n",
    "            test_df = dill.loads(f.read())\n",
    "    with open(\"val_df_preprocessed.pkl\", \"rb\") as f:\n",
    "            val_df = dill.loads(f.read())"
   ]
  },
  {
   "cell_type": "code",
   "execution_count": 5,
   "metadata": {},
   "outputs": [
    {
     "name": "stdout",
     "output_type": "stream",
     "text": [
      "top 20 tokens after preprocessing\n",
      "[('food', 3809),\n",
      " ('peopl', 3414),\n",
      " ('report', 3231),\n",
      " ('case', 2695),\n",
      " ('area', 2637),\n",
      " ('water', 2531),\n",
      " ('children', 2212),\n",
      " ('need', 2039),\n",
      " ('health', 2019),\n",
      " ('affect', 1964),\n",
      " ('access', 1687),\n",
      " ('includ', 1612),\n",
      " ('displac', 1585),\n",
      " ('increas', 1434),\n",
      " ('due', 1374),\n",
      " ('also', 1347),\n",
      " ('refuge', 1324),\n",
      " ('school', 1299),\n",
      " ('continu', 1293),\n",
      " ('region', 1290)]\n"
     ]
    }
   ],
   "source": [
    "print(\"top 20 tokens after preprocessing\")\n",
    "pprint(get_n_most_common_tokens(train_df, 20))   "
   ]
  },
  {
   "cell_type": "markdown",
   "metadata": {},
   "source": [
    "## Creating Dictionary"
   ]
  },
  {
   "cell_type": "code",
   "execution_count": 6,
   "metadata": {},
   "outputs": [],
   "source": [
    "token_counter = Counter((\" \".join(train_df[\"text\"].values).split(\" \")))\n",
    "_ = token_counter.pop(\"\")"
   ]
  },
  {
   "cell_type": "code",
   "execution_count": 7,
   "metadata": {},
   "outputs": [
    {
     "data": {
      "text/plain": [
       "19074"
      ]
     },
     "execution_count": 7,
     "metadata": {},
     "output_type": "execute_result"
    }
   ],
   "source": [
    "len(token_counter)"
   ]
  },
  {
   "cell_type": "code",
   "execution_count": 8,
   "metadata": {},
   "outputs": [
    {
     "data": {
      "image/png": "[encoded data removed]",
      "text/plain": [
       "<Figure size 432x288 with 1 Axes>"
      ]
     },
     "metadata": {
      "needs_background": "light"
     },
     "output_type": "display_data"
    }
   ],
   "source": [
    "corpus_dict = pd.DataFrame({\"token\": token_counter.keys(), \"count\": token_counter.values()})\n",
    "corpus_dict = corpus_dict.sample(frac=1).reset_index(drop=True)\n",
    "sorted_dict = corpus_dict.sort_values(\"count\", ascending=False)\n",
    "\n",
    "plt.plot(range(1, len(sorted_dict) + 1), sorted_dict[\"count\"])\n",
    "plt.yscale(\"log\")\n",
    "plt.ylabel(\"occurences\")\n",
    "plt.xlabel(\"tokens\")\n",
    "plt.show()"
   ]
  },
  {
   "cell_type": "code",
   "execution_count": 9,
   "metadata": {},
   "outputs": [
    {
     "data": {
      "image/png": "[encoded data removed]",
      "text/plain": [
       "<Figure size 432x288 with 1 Axes>"
      ]
     },
     "metadata": {
      "needs_background": "light"
     },
     "output_type": "display_data"
    }
   ],
   "source": [
    "reduced_corpus_dict = corpus_dict[corpus_dict[\"count\"] >= 100]\n",
    "\n",
    "sorted_dict = reduced_corpus_dict.sort_values(\"count\", ascending=False)\n",
    "plt.plot(range(1, len(sorted_dict) + 1), sorted_dict[\"count\"])\n",
    "plt.yscale(\"log\")\n",
    "plt.ylabel(\"occurences\")\n",
    "plt.xlabel(\"tokens\")\n",
    "plt.show()"
   ]
  },
  {
   "cell_type": "code",
   "execution_count": 10,
   "metadata": {},
   "outputs": [],
   "source": [
    "# removing words that are below the threshold from the corpus\n",
    "def reduce_words(input_df: pd.DataFrame, full_dict: pd.DataFrame, threshold: int):\n",
    "    def remove_words(word_list):\n",
    "        def inner(text):\n",
    "            text = \" \".join([w for w in text.split(\" \") if w not in word_list])\n",
    "            return text\n",
    "        return inner\n",
    "\n",
    "    word_list = (full_dict[full_dict[\"count\"] < threshold])[\"token\"].to_list()\n",
    "    input_df[\"text\"] = input_df[\"text\"].apply(remove_words(word_list))"
   ]
  },
  {
   "cell_type": "code",
   "execution_count": 11,
   "metadata": {},
   "outputs": [],
   "source": [
    "if REDUCE_WORDS:\n",
    "    threshold = 100\n",
    "    reduce_words(train_df, corpus_dict, threshold)\n",
    "    reduce_words(test_df, corpus_dict, threshold)\n",
    "    reduce_words(val_df, corpus_dict, threshold)\n",
    "\n",
    "    with open(\"train_df_reduced.pkl\", \"wb\") as f:\n",
    "        f.write(dill.dumps(train_df))\n",
    "    with open(\"test_df_reduced.pkl\", \"wb\") as f:\n",
    "        f.write(dill.dumps(test_df))\n",
    "    with open(\"val_df_reduced.pkl\", \"wb\") as f:\n",
    "        f.write(dill.dumps(val_df))\n",
    "\n",
    "else:\n",
    "    with open(\"train_df_reduced.pkl\", \"rb\") as f:\n",
    "            train_df = dill.loads(f.read())\n",
    "    with open(\"test_df_reduced.pkl\", \"rb\") as f:\n",
    "            test_df = dill.loads(f.read())\n",
    "    with open(\"val_df_reduced.pkl\", \"rb\") as f:\n",
    "            val_df = dill.loads(f.read())"
   ]
  },
  {
   "cell_type": "code",
   "execution_count": 12,
   "metadata": {},
   "outputs": [],
   "source": [
    "corpus_dict = reduced_corpus_dict\n",
    "corpus_dict.reset_index(inplace=True, drop=True)"
   ]
  },
  {
   "cell_type": "markdown",
   "metadata": {},
   "source": [
    "## Sentence Vectors"
   ]
  },
  {
   "cell_type": "code",
   "execution_count": 13,
   "metadata": {},
   "outputs": [],
   "source": [
    "def create_tc_vec_from_doc(input_df, n):\n",
    "    word_tokens = input_df.iloc[n][\"text\"]\n",
    "    tokens = word_tokenize(word_tokens)\n",
    "    fd = FreqDist(tokens)\n",
    "\n",
    "    doc_vec = np.zeros(len(corpus_dict))\n",
    "\n",
    "    tokens = corpus_dict[\"token\"]\n",
    "    for i, token in enumerate(tokens):\n",
    "        doc_vec[i] = fd[token]\n",
    "    \n",
    "    return doc_vec\n",
    "\n",
    "\n",
    "train_tc_vecs = []\n",
    "train_tf_vecs = []\n",
    "for doc_idx in range(len(train_df)):\n",
    "    train_tc_vecs.append(create_tc_vec_from_doc(train_df, doc_idx))\n",
    "    train_tf_vecs.append(np.log(train_tc_vecs[-1] + 1))\n",
    "\n",
    "test_tc_vecs = []\n",
    "test_tf_vecs = []\n",
    "for doc_idx in range(len(test_df)):\n",
    "    test_tc_vecs.append(create_tc_vec_from_doc(test_df, doc_idx))\n",
    "    test_tf_vecs.append(np.log(test_tc_vecs[-1] + 1))\n",
    "    \n",
    "val_tc_vecs = []\n",
    "val_tf_vecs = []\n",
    "for doc_idx in range(len(val_df)):\n",
    "    val_tc_vecs.append(create_tc_vec_from_doc(val_df, doc_idx))\n",
    "    val_tf_vecs.append(np.log(val_tc_vecs[-1] + 1))\n",
    "    \n",
    "train_tc_vecs = np.array(train_tc_vecs).T\n",
    "train_tf_vecs = np.array(train_tf_vecs).T\n",
    "\n",
    "test_tc_vecs = np.array(test_tc_vecs).T\n",
    "test_tf_vecs = np.array(test_tf_vecs).T\n",
    "\n",
    "val_tc_vecs = np.array(train_tc_vecs).T\n",
    "val_tf_vecs = np.array(val_tf_vecs).T"
   ]
  },
  {
   "cell_type": "code",
   "execution_count": 14,
   "metadata": {},
   "outputs": [
    {
     "name": "stdout",
     "output_type": "stream",
     "text": [
      "sparsity of training vector: 0.9672511751481708\n",
      "sparsity of testing vector: 0.9672730885391829\n",
      "sparsity of validation vector: 0.9672511751481708\n"
     ]
    }
   ],
   "source": [
    "def compute_sparsity(arr: np.ndarray) -> int:\n",
    "    empty = (arr == 0).sum()\n",
    "    return  empty / arr.size \n",
    "    \n",
    "print(f\"sparsity of training vector: {compute_sparsity(train_tc_vecs)}\")\n",
    "print(f\"sparsity of testing vector: {compute_sparsity(test_tc_vecs)}\")\n",
    "print(f\"sparsity of validation vector: {compute_sparsity(val_tc_vecs)}\")"
   ]
  },
  {
   "cell_type": "markdown",
   "metadata": {},
   "source": [
    "## Dimensionality Reduction"
   ]
  },
  {
   "cell_type": "code",
   "execution_count": null,
   "metadata": {},
   "outputs": [],
   "source": [
    "def latent_semantic_analysis(arr: np.ndarray, k) -> Tuple[np.ndarray, np.ndarray, np.ndarray]:\n",
    "    U, Sigma, V_tp = svd(arr)\n",
    "    Sigma = np.diag(Sigma)\n",
    "    U_k = U[:,:k]\n",
    "    Sigma_k = Sigma[:k, :k]\n",
    "    V_tp_k = V_tp[:k, :]\n",
    "    \n",
    "    return U_k, Sigma_k, V_tp_k\n",
    "\n",
    "k = 50\n",
    "lsa_train_tc = latent_semantic_analysis(train_tc_vecs, k)\n",
    "lsa_train_tf = latent_semantic_analysis(train_tf_vecs, k)\n",
    "\n",
    "lsa_test_tc = latent_semantic_analysis(test_tc_vecs, k)\n",
    "lsa_test_tf = latent_semantic_analysis(test_tf_vecs, k)\n",
    "\n",
    "lsa_val_tc = latent_semantic_analysis(val_tc_vecs, k)\n",
    "lsa_val_tf = latent_semantic_analysis(val_tf_vecs, k)"
   ]
  },
  {
   "cell_type": "code",
   "execution_count": null,
   "metadata": {},
   "outputs": [],
   "source": [
    "print(lsa_val_tc[0].shape)\n",
    "print(lsa_val_tc[1].shape)\n",
    "print(lsa_val_tc[2].shape)"
   ]
  },
  {
   "cell_type": "markdown",
   "metadata": {},
   "source": [
    "<a name=\"section-training\"></a><h2 style=\"color:rgb(0,120,170)\">Task B: Training and Results Analysis (15 points)</h2>"
   ]
  },
  {
   "cell_type": "markdown",
   "metadata": {},
   "source": [
    "<div>\n",
    "\n",
    "To evaluate the models, use <ins>accuracy</ins> as the metric throughout the task. \n",
    "\n",
    "**Dummy baseline (2 points).** Create one dummy baseline classifier that predicts the validation/test labels only based on the distribution of the labels in the training set (without any use of the feature vectors). This is a weak baseline and acts as a sanity check for the actual classifiers.\n",
    "\n",
    "**Training and tuning classifiers (5 points).** Select at least <ins>two classification algorithms</ins> from standard machine learning classifiers. Using each classification algorithm, train a machine learning model on each of the variations of feature vectors. This should result in <ins>eight experiment sets</ins> (4 variations of feature vectors × 2 classification algorithms). The ML model in each of the experiments possibly have several involving hyper-parameters (also keep in mind the dimensionality size $k$ in the low-dimensional vectors as yet another hyper-parameter). For each experiment, select <ins>one of the hyper-parameters and tune its value</ins>. The tuning process is done by first assigning at least <ins>five different values</ins> to the hyper-parameter, then training separate models based on each value, and finally using the evaluation results on the validation set to select the best-performing model. Report the studied hyper-parameters, the evaluation results of each on validation set, and finally the selected value of the hyper-parameter. \n",
    "\n",
    "**Evaluation and plots (3 point).** Evaluate the selected model of the eight experiment on the test set and report the results of the experiments on <ins>both validation and test sets (side by side) in one table as well as in one plot</ins>. Compare different models. Are the test results lower(/higher) than the validation results? If it is the case, where can it be rooted from? Among all these models and variations, what are the most important factors improving the classification results?\n",
    "\n",
    "**Confusion matrix (2 point).** Select the best performing model among the experiments and use it to create a confusion matrix. The matrix shows the predicted versus true results per each label. Explain your observations on the matrix. Across which classes do you observe significant confusions?\n",
    "\n",
    "**Features visualization (3 point).** Continue with the best performing model and now take its feature vectors for the *dataitems in the test set*. Project these feature vectors to a 2-dimensional space using the TSNE method.  Using these 2-dimensional vectors, create two plots where the dataitems are shown as points (small circles) on the plots. The plots look exactly the same but only differ in the coloring of the data points. The first plot colors every dataitem with its *true label*, while the second one colors each according to its *predicted label by the model*. Keep in mind to assign the same colors to the classes of the plots, so that the plots are visually comparable. Put these two plots side by side, observe the differences, and compare the results. Report your observations.\n",
    "\n",
    "</div>"
   ]
  },
  {
   "cell_type": "code",
   "execution_count": null,
   "metadata": {},
   "outputs": [],
   "source": []
  },
  {
   "cell_type": "code",
   "execution_count": null,
   "metadata": {},
   "outputs": [],
   "source": []
  },
  {
   "cell_type": "markdown",
   "metadata": {},
   "source": [
    "<a name=\"section-optional\"></a><h2 style=\"color:rgb(0,120,170)\">Task C: Linear Model Interpretability (2 extra point)</h2>"
   ]
  },
  {
   "cell_type": "markdown",
   "metadata": {},
   "source": [
    "<div>\n",
    "Train a logistic regression model on the high-dimensional vectors. Take the coefficient weights, learned by the model, on each dimension (which here corresponds to each token in the dictionary). Separately for each class, study what are the tokens that have the highest contributions/importance for the predictions of the model.\n",
    "</div>"
   ]
  },
  {
   "cell_type": "code",
   "execution_count": null,
   "metadata": {},
   "outputs": [],
   "source": []
  },
  {
   "cell_type": "code",
   "execution_count": null,
   "metadata": {},
   "outputs": [],
   "source": []
  }
 ],
 "metadata": {
  "kernelspec": {
   "display_name": "Python 3",
   "language": "python",
   "name": "python3"
  },
  "language_info": {
   "codemirror_mode": {
    "name": "ipython",
    "version": 3
   },
   "file_extension": ".py",
   "mimetype": "text/x-python",
   "name": "python",
   "nbconvert_exporter": "python",
   "pygments_lexer": "ipython3",
   "version": "3.9.0"
  }
 },
 "nbformat": 4,
 "nbformat_minor": 4
}
